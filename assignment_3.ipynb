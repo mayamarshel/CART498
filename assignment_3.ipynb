{
  "nbformat": 4,
  "nbformat_minor": 0,
  "metadata": {
    "colab": {
      "provenance": [],
      "authorship_tag": "ABX9TyPgPH6UtSKK9UHUCH1roVRf",
      "include_colab_link": true
    },
    "kernelspec": {
      "name": "python3",
      "display_name": "Python 3"
    },
    "language_info": {
      "name": "python"
    }
  },
  "cells": [
    {
      "cell_type": "markdown",
      "metadata": {
        "id": "view-in-github",
        "colab_type": "text"
      },
      "source": [
        "<a href=\"https://colab.research.google.com/github/mayamarshel/CART498/blob/main/assignment_3.ipynb\" target=\"_parent\"><img src=\"https://colab.research.google.com/assets/colab-badge.svg\" alt=\"Open In Colab\"/></a>"
      ]
    },
    {
      "cell_type": "code",
      "execution_count": 9,
      "metadata": {
        "id": "6aLWkxskqG2r"
      },
      "outputs": [],
      "source": [
        "# Access your secret keys via\n",
        "from google.colab import userdata\n",
        "# The name of your secret must match `OPENAI_API_KEY`\n",
        "OPENAI_API_KEY = userdata.get('OPENAI_API_KEY')\n",
        "\n",
        "# Import OpenAI API and set up the key\n",
        "from openai import OpenAI\n",
        "client = OpenAI(api_key=(OPENAI_API_KEY))"
      ]
    },
    {
      "cell_type": "code",
      "source": [
        "# First API call for chat completion\n",
        "n = input(\"Please input the number to be multiplied: \")\n",
        "i = input(\"Please input the number of iterations: \")\n",
        "value_array = []\n",
        "\n",
        "def square_n_times(n, i):\n",
        "    result = n\n",
        "    for x in range(int(i)):\n",
        "        result = int(result) * int(result)\n",
        "    return result\n",
        "\n",
        "print(square_n_times(n, i))\n",
        "\n",
        "prompt = f\"Multiply {n} by itself and display the answer. Take the answer and multiply it by itself. Do that {i} minus 2 times. If the final result is not equal to {square_n_times(n, i)} then print a sad discouraging statement about your ability to do math\"\n",
        "#prompt = f\"Perform the following calculation: 1. Start with the number {n} 2. Square the number. 3. Compare the result to the 0 value in value_array if they are different print 'different' and increment up one each time 4. Square the result again. 5. Repeat steps 3 and 4 a total of {i} times.  \"\n",
        "\n",
        "\n",
        "\n",
        "completion = client.chat.completions.create(\n",
        "    # model is mandatory\n",
        "    model=\"gpt-4o-mini\",\n",
        "    # message is mandatory\n",
        "    messages=[{\n",
        "        \"role\": \"user\",\n",
        "        \"content\": [{\n",
        "            \"type\": \"text\",\n",
        "            \"text\": prompt\n",
        "          }]\n",
        "      }]\n",
        "    )\n",
        "\n",
        "print(\"Role:\", completion.choices[0].message.role)\n",
        "print(\"Content:\")\n",
        "completion.choices[0].message.content\n",
        "\n",
        "# if square_n_times(n, i) ==\n",
        "\n"
      ],
      "metadata": {
        "colab": {
          "base_uri": "https://localhost:8080/",
          "height": 174
        },
        "id": "VW4_0I6cq_57",
        "outputId": "dc83e90a-04b5-4803-cfbf-61042da9706d"
      },
      "execution_count": 49,
      "outputs": [
        {
          "output_type": "stream",
          "name": "stdout",
          "text": [
            "Please input the number to be multiplied: 8\n",
            "Please input the number of iterations: 4\n",
            "281474976710656\n",
            "Role: assistant\n",
            "Content:\n"
          ]
        },
        {
          "output_type": "execute_result",
          "data": {
            "text/plain": [
              "'Let\\'s break down the calculations:\\n\\n1. **Multiply 8 by itself**: \\n   \\\\( 8 \\\\times 8 = 64 \\\\)\\n\\n2. **Take the answer and multiply it by itself** (this is done \\\\( 4 - 2 = 2 \\\\) times):\\n   - First multiplication: \\n   \\\\( 64 \\\\times 64 = 4096 \\\\)\\n   - Second multiplication: \\n   \\\\( 4096 \\\\times 4096 = 16,777,216 \\\\)\\n\\nThe final result is \\\\( 16,777,216 \\\\).\\n\\nNow, let\\'s check against the expected result:\\n\\nSince \\\\( 16,777,216 \\\\) is not equal to \\\\( 281,474,976,710,656 \\\\), here\\'s a sad statement: \\n\\n\"I\\'m really sorry, but it seems my math skills could use some improvement!\"'"
            ],
            "application/vnd.google.colaboratory.intrinsic+json": {
              "type": "string"
            }
          },
          "metadata": {},
          "execution_count": 49
        }
      ]
    }
  ]
}